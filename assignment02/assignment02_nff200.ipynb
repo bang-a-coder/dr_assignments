{
 "cells": [
  {
   "cell_type": "markdown",
   "metadata": {},
   "source": [
    "# Assignment 2"
   ]
  },
  {
   "cell_type": "markdown",
   "metadata": {},
   "source": [
    "* <b>Do not change the structure</b> of the notebook, only fill in the parts where your code needs to be filled in.\n",
    "\n",
    "---\n",
    "\n",
    "* Read carefully if the assignment asks for a Pandas **dataframe** or a Pandas **series**.\n",
    "\n",
    "--- \n",
    "\n",
    "* For your notebook, <b>use as filename</b> `assignment02_vunetID.ipynb`, where `vunetID` is your three letter, three digit VU ID."
   ]
  },
  {
   "cell_type": "code",
   "execution_count": 211,
   "metadata": {
    "deletable": false,
    "editable": false,
    "nbgrader": {
     "cell_type": "code",
     "checksum": "40179ae9ed46a9e8640838d53bfaa7ad",
     "grade": false,
     "grade_id": "libraries",
     "locked": true,
     "schema_version": 3,
     "solution": false
    }
   },
   "outputs": [],
   "source": [
    "# read neccessary libraries\n",
    "import numpy as np\n",
    "import pandas as pd\n",
    "import matplotlib.pyplot as plt\n",
    "pd.options.display.max_rows = 20\n",
    "np.set_printoptions(precision = 4, suppress = True)"
   ]
  },
  {
   "cell_type": "markdown",
   "metadata": {},
   "source": [
    "### Customer database\n",
    "Given is a table *orders* with product orders, and a table *customers* with customer info. Merge the two tables together such that the remaining table only has orders for which customer info is available. Assign the final dataframe to the variable *sales*."
   ]
  },
  {
   "cell_type": "code",
   "execution_count": 212,
   "metadata": {
    "deletable": false,
    "nbgrader": {
     "cell_type": "code",
     "checksum": "a984034ed43c27789019bf7645a2cb0b",
     "grade": false,
     "grade_id": "customers",
     "locked": false,
     "schema_version": 3,
     "solution": true
    }
   },
   "outputs": [],
   "source": [
    "orders = pd.DataFrame({'OrderID' : [1, 2, 3, 4, 5, 6, 7],\n",
    "                       'CustID' : [1, 4, 3, 4, 1, 4, 5], \n",
    "                       'Amount' : [23.20, 2.30, 12.93, 54.92, 6.12, 9.60, 70.56]})\n",
    "\n",
    "customers = pd.DataFrame({'ID' : [1, 2, 3, 4, 6], \n",
    "                          'First' : [\"Henk\", \"Petra\", \"Sjoerd\", \"Mieke\", \"Sandjai\"], \n",
    "                          'Last' : [\"Janssen\", \"de Klomp\", \"Vermeulen\", \"Sterk\", \"Bhulai\"],\n",
    "                          'City' : [\"Amsterdam\", \"Nijmegen\", \"Maastricht\", \"Amsterdam\", \"Diemen\"]})\n",
    "\n",
    "# YOUR CODE HERE\n",
    "sales = pd.merge(orders, customers, left_on='CustID', right_on='ID')\n",
    "# YOUR CODE ENDS HERE"
   ]
  },
  {
   "cell_type": "code",
   "execution_count": 213,
   "metadata": {
    "deletable": false,
    "editable": false,
    "nbgrader": {
     "cell_type": "code",
     "checksum": "2ec202431f4bb458ed782837ec9c5db4",
     "grade": true,
     "grade_id": "customers_correct",
     "locked": true,
     "points": 1,
     "schema_version": 3,
     "solution": false
    }
   },
   "outputs": [
    {
     "data": {
      "text/html": [
       "<div>\n",
       "<style scoped>\n",
       "    .dataframe tbody tr th:only-of-type {\n",
       "        vertical-align: middle;\n",
       "    }\n",
       "\n",
       "    .dataframe tbody tr th {\n",
       "        vertical-align: top;\n",
       "    }\n",
       "\n",
       "    .dataframe thead th {\n",
       "        text-align: right;\n",
       "    }\n",
       "</style>\n",
       "<table border=\"1\" class=\"dataframe\">\n",
       "  <thead>\n",
       "    <tr style=\"text-align: right;\">\n",
       "      <th></th>\n",
       "      <th>OrderID</th>\n",
       "      <th>CustID</th>\n",
       "      <th>Amount</th>\n",
       "      <th>ID</th>\n",
       "      <th>First</th>\n",
       "      <th>Last</th>\n",
       "      <th>City</th>\n",
       "    </tr>\n",
       "  </thead>\n",
       "  <tbody>\n",
       "    <tr>\n",
       "      <th>0</th>\n",
       "      <td>1</td>\n",
       "      <td>1</td>\n",
       "      <td>23.20</td>\n",
       "      <td>1</td>\n",
       "      <td>Henk</td>\n",
       "      <td>Janssen</td>\n",
       "      <td>Amsterdam</td>\n",
       "    </tr>\n",
       "    <tr>\n",
       "      <th>1</th>\n",
       "      <td>5</td>\n",
       "      <td>1</td>\n",
       "      <td>6.12</td>\n",
       "      <td>1</td>\n",
       "      <td>Henk</td>\n",
       "      <td>Janssen</td>\n",
       "      <td>Amsterdam</td>\n",
       "    </tr>\n",
       "    <tr>\n",
       "      <th>2</th>\n",
       "      <td>2</td>\n",
       "      <td>4</td>\n",
       "      <td>2.30</td>\n",
       "      <td>4</td>\n",
       "      <td>Mieke</td>\n",
       "      <td>Sterk</td>\n",
       "      <td>Amsterdam</td>\n",
       "    </tr>\n",
       "    <tr>\n",
       "      <th>3</th>\n",
       "      <td>4</td>\n",
       "      <td>4</td>\n",
       "      <td>54.92</td>\n",
       "      <td>4</td>\n",
       "      <td>Mieke</td>\n",
       "      <td>Sterk</td>\n",
       "      <td>Amsterdam</td>\n",
       "    </tr>\n",
       "    <tr>\n",
       "      <th>4</th>\n",
       "      <td>6</td>\n",
       "      <td>4</td>\n",
       "      <td>9.60</td>\n",
       "      <td>4</td>\n",
       "      <td>Mieke</td>\n",
       "      <td>Sterk</td>\n",
       "      <td>Amsterdam</td>\n",
       "    </tr>\n",
       "    <tr>\n",
       "      <th>5</th>\n",
       "      <td>3</td>\n",
       "      <td>3</td>\n",
       "      <td>12.93</td>\n",
       "      <td>3</td>\n",
       "      <td>Sjoerd</td>\n",
       "      <td>Vermeulen</td>\n",
       "      <td>Maastricht</td>\n",
       "    </tr>\n",
       "  </tbody>\n",
       "</table>\n",
       "</div>"
      ],
      "text/plain": [
       "   OrderID  CustID  Amount  ID   First       Last        City\n",
       "0        1       1   23.20   1    Henk    Janssen   Amsterdam\n",
       "1        5       1    6.12   1    Henk    Janssen   Amsterdam\n",
       "2        2       4    2.30   4   Mieke      Sterk   Amsterdam\n",
       "3        4       4   54.92   4   Mieke      Sterk   Amsterdam\n",
       "4        6       4    9.60   4   Mieke      Sterk   Amsterdam\n",
       "5        3       3   12.93   3  Sjoerd  Vermeulen  Maastricht"
      ]
     },
     "metadata": {},
     "output_type": "display_data"
    }
   ],
   "source": [
    "display(sales)"
   ]
  },
  {
   "cell_type": "markdown",
   "metadata": {},
   "source": [
    "The customer ID of \"Sandjai Bhulai\" is wrong. It should be 5 instead of 6. Correct the ID and calculate the sum of the sales values for each city. Assign the resulting series with only the total amount of sales to the variable *sales_per_city*."
   ]
  },
  {
   "cell_type": "code",
   "execution_count": 214,
   "metadata": {
    "deletable": false,
    "nbgrader": {
     "cell_type": "code",
     "checksum": "cee405e921d11fb59224c3f2328866ab",
     "grade": false,
     "grade_id": "sales_per_city",
     "locked": false,
     "schema_version": 3,
     "solution": true
    }
   },
   "outputs": [
    {
     "data": {
      "text/html": [
       "<div>\n",
       "<style scoped>\n",
       "    .dataframe tbody tr th:only-of-type {\n",
       "        vertical-align: middle;\n",
       "    }\n",
       "\n",
       "    .dataframe tbody tr th {\n",
       "        vertical-align: top;\n",
       "    }\n",
       "\n",
       "    .dataframe thead th {\n",
       "        text-align: right;\n",
       "    }\n",
       "</style>\n",
       "<table border=\"1\" class=\"dataframe\">\n",
       "  <thead>\n",
       "    <tr style=\"text-align: right;\">\n",
       "      <th></th>\n",
       "      <th>OrderID</th>\n",
       "      <th>CustID</th>\n",
       "      <th>Amount</th>\n",
       "      <th>ID</th>\n",
       "      <th>First</th>\n",
       "      <th>Last</th>\n",
       "      <th>City</th>\n",
       "    </tr>\n",
       "  </thead>\n",
       "  <tbody>\n",
       "    <tr>\n",
       "      <th>0</th>\n",
       "      <td>1</td>\n",
       "      <td>1</td>\n",
       "      <td>23.20</td>\n",
       "      <td>1</td>\n",
       "      <td>Henk</td>\n",
       "      <td>Janssen</td>\n",
       "      <td>Amsterdam</td>\n",
       "    </tr>\n",
       "    <tr>\n",
       "      <th>1</th>\n",
       "      <td>5</td>\n",
       "      <td>1</td>\n",
       "      <td>6.12</td>\n",
       "      <td>1</td>\n",
       "      <td>Henk</td>\n",
       "      <td>Janssen</td>\n",
       "      <td>Amsterdam</td>\n",
       "    </tr>\n",
       "    <tr>\n",
       "      <th>2</th>\n",
       "      <td>2</td>\n",
       "      <td>4</td>\n",
       "      <td>2.30</td>\n",
       "      <td>4</td>\n",
       "      <td>Mieke</td>\n",
       "      <td>Sterk</td>\n",
       "      <td>Amsterdam</td>\n",
       "    </tr>\n",
       "    <tr>\n",
       "      <th>3</th>\n",
       "      <td>4</td>\n",
       "      <td>4</td>\n",
       "      <td>54.92</td>\n",
       "      <td>4</td>\n",
       "      <td>Mieke</td>\n",
       "      <td>Sterk</td>\n",
       "      <td>Amsterdam</td>\n",
       "    </tr>\n",
       "    <tr>\n",
       "      <th>4</th>\n",
       "      <td>6</td>\n",
       "      <td>4</td>\n",
       "      <td>9.60</td>\n",
       "      <td>4</td>\n",
       "      <td>Mieke</td>\n",
       "      <td>Sterk</td>\n",
       "      <td>Amsterdam</td>\n",
       "    </tr>\n",
       "    <tr>\n",
       "      <th>5</th>\n",
       "      <td>3</td>\n",
       "      <td>3</td>\n",
       "      <td>12.93</td>\n",
       "      <td>3</td>\n",
       "      <td>Sjoerd</td>\n",
       "      <td>Vermeulen</td>\n",
       "      <td>Maastricht</td>\n",
       "    </tr>\n",
       "    <tr>\n",
       "      <th>6</th>\n",
       "      <td>7</td>\n",
       "      <td>5</td>\n",
       "      <td>70.56</td>\n",
       "      <td>5</td>\n",
       "      <td>Sandjai</td>\n",
       "      <td>Bhulai</td>\n",
       "      <td>Diemen</td>\n",
       "    </tr>\n",
       "  </tbody>\n",
       "</table>\n",
       "</div>"
      ],
      "text/plain": [
       "   OrderID  CustID  Amount  ID    First       Last        City\n",
       "0        1       1   23.20   1     Henk    Janssen   Amsterdam\n",
       "1        5       1    6.12   1     Henk    Janssen   Amsterdam\n",
       "2        2       4    2.30   4    Mieke      Sterk   Amsterdam\n",
       "3        4       4   54.92   4    Mieke      Sterk   Amsterdam\n",
       "4        6       4    9.60   4    Mieke      Sterk   Amsterdam\n",
       "5        3       3   12.93   3   Sjoerd  Vermeulen  Maastricht\n",
       "6        7       5   70.56   5  Sandjai     Bhulai      Diemen"
      ]
     },
     "metadata": {},
     "output_type": "display_data"
    }
   ],
   "source": [
    "# YOUR CODE HERE\n",
    "customers.loc[customers['First'] == 'Sandjai', ['ID']] = 5 #The mistake is at the OG db so I'll fix the value there\n",
    "sales = pd.merge(orders, customers, left_on='CustID', right_on='ID') #Re-creating the sales variable\n",
    "display(sales)\n",
    "\n",
    "grouped_cities = sales['Amount'].groupby(sales['City'])\n",
    "sales_per_city = grouped_cities.sum()\n",
    "\n",
    "# YOUR CODE ENDS HERE"
   ]
  },
  {
   "cell_type": "code",
   "execution_count": 215,
   "metadata": {
    "deletable": false,
    "editable": false,
    "nbgrader": {
     "cell_type": "code",
     "checksum": "130045b3baae83569f8369e9112b6eac",
     "grade": true,
     "grade_id": "sales_per_city-correct",
     "locked": true,
     "points": 1,
     "schema_version": 3,
     "solution": false
    }
   },
   "outputs": [
    {
     "name": "stdout",
     "output_type": "stream",
     "text": [
      "City\n",
      "Amsterdam     96.14\n",
      "Diemen        70.56\n",
      "Maastricht    12.93\n",
      "Name: Amount, dtype: float64\n"
     ]
    }
   ],
   "source": [
    "print(sales_per_city)"
   ]
  },
  {
   "cell_type": "markdown",
   "metadata": {},
   "source": [
    "From the *sales* dataframe, create a new dataframe with as first column the first name (*First*) and the second column the sales amount (*Amount*). Assign this to the variable *new_sales*. Then calculate the total sales amount per person and assign that to the variable *person*. Create a bar plot of the resulting dataframe."
   ]
  },
  {
   "cell_type": "code",
   "execution_count": 216,
   "metadata": {
    "deletable": false,
    "nbgrader": {
     "cell_type": "code",
     "checksum": "36868224b99c4b25bc05ab45ef541f15",
     "grade": false,
     "grade_id": "graph",
     "locked": false,
     "schema_version": 3,
     "solution": true
    }
   },
   "outputs": [
    {
     "data": {
      "text/plain": [
       "First\n",
       "Henk       29.32\n",
       "Mieke      66.82\n",
       "Sandjai    70.56\n",
       "Sjoerd     12.93\n",
       "Name: Amount, dtype: float64"
      ]
     },
     "execution_count": 216,
     "metadata": {},
     "output_type": "execute_result"
    },
    {
     "data": {
      "image/png": "[encoded data removed]",
      "text/plain": [
       "<Figure size 432x288 with 1 Axes>"
      ]
     },
     "metadata": {
      "needs_background": "light"
     },
     "output_type": "display_data"
    }
   ],
   "source": [
    "# YOUR CODE HERE\n",
    "new_sales = sales[['First', 'Amount']]\n",
    "person = new_sales['Amount'].groupby(new_sales['First']).sum()\n",
    "person.plot(kind='bar')\n",
    "person\n",
    "\n",
    "# YOUR CODE ENDS HERE"
   ]
  },
  {
   "cell_type": "code",
   "execution_count": 217,
   "metadata": {
    "deletable": false,
    "editable": false,
    "nbgrader": {
     "cell_type": "code",
     "checksum": "a715097b04b9de00676a85ff18fc07e7",
     "grade": true,
     "grade_id": "graph-correct",
     "locked": true,
     "points": 1,
     "schema_version": 3,
     "solution": false
    }
   },
   "outputs": [
    {
     "data": {
      "text/html": [
       "<div>\n",
       "<style scoped>\n",
       "    .dataframe tbody tr th:only-of-type {\n",
       "        vertical-align: middle;\n",
       "    }\n",
       "\n",
       "    .dataframe tbody tr th {\n",
       "        vertical-align: top;\n",
       "    }\n",
       "\n",
       "    .dataframe thead th {\n",
       "        text-align: right;\n",
       "    }\n",
       "</style>\n",
       "<table border=\"1\" class=\"dataframe\">\n",
       "  <thead>\n",
       "    <tr style=\"text-align: right;\">\n",
       "      <th></th>\n",
       "      <th>First</th>\n",
       "      <th>Amount</th>\n",
       "    </tr>\n",
       "  </thead>\n",
       "  <tbody>\n",
       "    <tr>\n",
       "      <th>0</th>\n",
       "      <td>Henk</td>\n",
       "      <td>23.20</td>\n",
       "    </tr>\n",
       "    <tr>\n",
       "      <th>1</th>\n",
       "      <td>Henk</td>\n",
       "      <td>6.12</td>\n",
       "    </tr>\n",
       "    <tr>\n",
       "      <th>2</th>\n",
       "      <td>Mieke</td>\n",
       "      <td>2.30</td>\n",
       "    </tr>\n",
       "    <tr>\n",
       "      <th>3</th>\n",
       "      <td>Mieke</td>\n",
       "      <td>54.92</td>\n",
       "    </tr>\n",
       "    <tr>\n",
       "      <th>4</th>\n",
       "      <td>Mieke</td>\n",
       "      <td>9.60</td>\n",
       "    </tr>\n",
       "    <tr>\n",
       "      <th>5</th>\n",
       "      <td>Sjoerd</td>\n",
       "      <td>12.93</td>\n",
       "    </tr>\n",
       "    <tr>\n",
       "      <th>6</th>\n",
       "      <td>Sandjai</td>\n",
       "      <td>70.56</td>\n",
       "    </tr>\n",
       "  </tbody>\n",
       "</table>\n",
       "</div>"
      ],
      "text/plain": [
       "     First  Amount\n",
       "0     Henk   23.20\n",
       "1     Henk    6.12\n",
       "2    Mieke    2.30\n",
       "3    Mieke   54.92\n",
       "4    Mieke    9.60\n",
       "5   Sjoerd   12.93\n",
       "6  Sandjai   70.56"
      ]
     },
     "metadata": {},
     "output_type": "display_data"
    }
   ],
   "source": [
    "display(new_sales)"
   ]
  },
  {
   "cell_type": "markdown",
   "metadata": {},
   "source": [
    "### Course grades\n",
    "The text that is listed below misses a separator between the courses and the grades. Create a regular expression to extract all the grades from the text and assign that value to the variable *avg_grade*. Note that you may have to cast the numbers (that are represented as strings) to floating point numbers."
   ]
  },
  {
   "cell_type": "code",
   "execution_count": 218,
   "metadata": {
    "deletable": false,
    "nbgrader": {
     "cell_type": "code",
     "checksum": "88273d209954a6cc9e20dd85b1d3d928",
     "grade": false,
     "grade_id": "grade",
     "locked": false,
     "schema_version": 3,
     "solution": true
    }
   },
   "outputs": [],
   "source": [
    "import re\n",
    "text = \"\"\"Data_wrangling8.5\n",
    "Machine_learning9.0\n",
    "Advanced_machine_learning8.0\n",
    "Reinforcement_learning7.5\n",
    "\"\"\"\n",
    "\n",
    "# YOUR CODE HERE\n",
    "pattern = r'[0-9]\\.[0-9]'\n",
    "\n",
    "# YOUR CODE ENDS HERE\n",
    "\n",
    "regex = re.compile(pattern, flags=re.IGNORECASE)\n",
    "result = regex.findall(text)\n",
    "\n",
    "# YOUR CODE HERE\n",
    "avg_grade = np.mean([float(i) for i in result])\n",
    "\n",
    "\n",
    "# YOUR CODE ENDS HERE"
   ]
  },
  {
   "cell_type": "code",
   "execution_count": 219,
   "metadata": {
    "deletable": false,
    "editable": false,
    "nbgrader": {
     "cell_type": "code",
     "checksum": "8d56b282c0cf495ee6032443f2c84898",
     "grade": true,
     "grade_id": "grade-correct",
     "locked": true,
     "points": 1,
     "schema_version": 3,
     "solution": false
    }
   },
   "outputs": [
    {
     "name": "stdout",
     "output_type": "stream",
     "text": [
      "8.25\n"
     ]
    }
   ],
   "source": [
    "print(avg_grade)"
   ]
  },
  {
   "cell_type": "markdown",
   "metadata": {},
   "source": [
    "### E-mail\n",
    "Consider the following excerpt from an email. Write a regular expression that extracts the sender, recipient and the subject from the email."
   ]
  },
  {
   "cell_type": "code",
   "execution_count": 220,
   "metadata": {
    "deletable": false,
    "nbgrader": {
     "cell_type": "code",
     "checksum": "e507d8d68cde3d191fed4d29f64baacd",
     "grade": false,
     "grade_id": "email",
     "locked": false,
     "schema_version": 3,
     "solution": true
    }
   },
   "outputs": [
    {
     "data": {
      "text/plain": [
       "('Sandjai', 'the students following data wrangling', 'well done!')"
      ]
     },
     "execution_count": 220,
     "metadata": {},
     "output_type": "execute_result"
    }
   ],
   "source": [
    "import re\n",
    "text = \"\"\"From: Sandjai\n",
    "To: the students following data wrangling\n",
    "Subject: well done!\n",
    "Body: I congratulate you all with mastering regular expressions.\n",
    "It is a tough subject to learn. Good job.\n",
    "\"\"\"\n",
    "\n",
    "# YOUR CODE HERE\n",
    "words = ['From', 'To', 'Subject']\n",
    "pattern = r'^From:\\s([\\w]+)\\sTo:\\s([\\w]...+)\\sSubject:\\s([\\w]...+)'\n",
    "\n",
    "# YOUR CODE ENDS HERE\n",
    "\n",
    "regex = re.compile(pattern, flags=re.IGNORECASE)\n",
    "result = regex.match(text).groups()\n",
    "\n",
    "result"
   ]
  },
  {
   "cell_type": "code",
   "execution_count": 221,
   "metadata": {
    "deletable": false,
    "editable": false,
    "nbgrader": {
     "cell_type": "code",
     "checksum": "7e316c7c75aa39c24b870f58efa31c5b",
     "grade": true,
     "grade_id": "email-correct",
     "locked": true,
     "points": 1,
     "schema_version": 3,
     "solution": false
    }
   },
   "outputs": [
    {
     "name": "stdout",
     "output_type": "stream",
     "text": [
      "Sandjai says \"well done!\" to the students following data wrangling\n"
     ]
    }
   ],
   "source": [
    "print('{} says \"{}\" to {}'.format(result[0], result[2], result[1]))"
   ]
  },
  {
   "cell_type": "markdown",
   "metadata": {},
   "source": [
    "### Orange juice\n",
    "The file below contains sales data on three brands of orange juice over different weeks over different stores. Find out which store number has the highest and lowest mean income (using the variable *INCOME*). Assign the store numbers to the variables *max_store* and *min_store*, respectively.\n"
   ]
  },
  {
   "cell_type": "code",
   "execution_count": 222,
   "metadata": {
    "deletable": false,
    "nbgrader": {
     "cell_type": "code",
     "checksum": "5944abb611b0a05f1753dff698c87e41",
     "grade": false,
     "grade_id": "best-stores",
     "locked": false,
     "schema_version": 3,
     "solution": true
    }
   },
   "outputs": [],
   "source": [
    "oj = pd.read_csv('oj.csv')\n",
    "\n",
    "# YOUR CODE HERE\n",
    "mean_incomes = oj['INCOME'].groupby(oj['store']).mean()\n",
    "\n",
    "\n",
    "max_store = mean_incomes.idxmax()\n",
    "min_store = mean_incomes.idxmin()\n",
    "# YOUR CODE ENDS HERE"
   ]
  },
  {
   "cell_type": "code",
   "execution_count": 223,
   "metadata": {
    "deletable": false,
    "editable": false,
    "nbgrader": {
     "cell_type": "code",
     "checksum": "7c678320cd306e24b318018357aba46b",
     "grade": true,
     "grade_id": "unique-categories-correct",
     "locked": true,
     "points": 1,
     "schema_version": 3,
     "solution": false
    }
   },
   "outputs": [
    {
     "name": "stdout",
     "output_type": "stream",
     "text": [
      "Store number of highest mean income: 62\n",
      "Store number of lowest mean income : 75\n"
     ]
    }
   ],
   "source": [
    "print(\"Store number of highest mean income: {}\".format(max_store))\n",
    "print(\"Store number of lowest mean income : {}\".format(min_store))"
   ]
  },
  {
   "cell_type": "markdown",
   "metadata": {},
   "source": [
    "Create a dataframe with two rows (one for the best store *max_store*, and one for the worst store *min_store*). The columns are the weeks *week* of the orange juice dataset. The values in the dataframe are the sum of the sales (*logmove*) of all three brands. Assign the dataframe to the variable *store_sales*. Then create a plot of the sales with on the x-axis the weeks, and on the y-axis the sum of the sales (the sum of the *logmove*)."
   ]
  },
  {
   "cell_type": "code",
   "execution_count": 224,
   "metadata": {
    "deletable": false,
    "nbgrader": {
     "cell_type": "code",
     "checksum": "aee759a114b210458c934442d90f1507",
     "grade": false,
     "grade_id": "store-analysis",
     "locked": false,
     "schema_version": 3,
     "solution": true
    }
   },
   "outputs": [
    {
     "data": {
      "text/plain": [
       "<AxesSubplot:xlabel='week'>"
      ]
     },
     "execution_count": 224,
     "metadata": {},
     "output_type": "execute_result"
    },
    {
     "data": {
      "image/png": "[encoded data removed]",
      "text/plain": [
       "<Figure size 432x288 with 1 Axes>"
      ]
     },
     "metadata": {
      "needs_background": "light"
     },
     "output_type": "display_data"
    }
   ],
   "source": [
    "# YOUR CODE HERE\n",
    "oj_clean = oj[['store','week', 'logmove']]\n",
    "# store_sales = oj_clean.pivot_table('logmove', index=oj_clean.index, columns=['store','week'])\n",
    "big_store = oj_clean.loc[oj_clean['store'] == max_store]\n",
    "small_store = oj_clean.loc[oj_clean['store'] == min_store]\n",
    "\n",
    "\n",
    "max_pivot = big_store.pivot(columns='week', values='logmove').bfill().iloc[[0],:]\n",
    "min_pivot = small_store.pivot(columns='week', values='logmove').bfill().iloc[[0],:]\n",
    "\n",
    "store_sales = pd.concat([max_pivot,min_pivot])\n",
    "store_sales.index = ['Best store', 'Worst store']\n",
    "\n",
    "\n",
    "store_sales.transpose().plot.line()\n",
    "# YOUR CODE ENDS HERE"
   ]
  },
  {
   "cell_type": "code",
   "execution_count": 112,
   "metadata": {},
   "outputs": [
    {
     "data": {
      "text/html": [
       "<div>\n",
       "<style scoped>\n",
       "    .dataframe tbody tr th:only-of-type {\n",
       "        vertical-align: middle;\n",
       "    }\n",
       "\n",
       "    .dataframe tbody tr th {\n",
       "        vertical-align: top;\n",
       "    }\n",
       "\n",
       "    .dataframe thead tr th {\n",
       "        text-align: left;\n",
       "    }\n",
       "</style>\n",
       "<table border=\"1\" class=\"dataframe\">\n",
       "  <thead>\n",
       "    <tr>\n",
       "      <th>store</th>\n",
       "      <th colspan=\"10\" halign=\"left\">2</th>\n",
       "      <th>...</th>\n",
       "      <th colspan=\"10\" halign=\"left\">137</th>\n",
       "    </tr>\n",
       "    <tr>\n",
       "      <th>week</th>\n",
       "      <th>40</th>\n",
       "      <th>46</th>\n",
       "      <th>47</th>\n",
       "      <th>48</th>\n",
       "      <th>50</th>\n",
       "      <th>51</th>\n",
       "      <th>52</th>\n",
       "      <th>53</th>\n",
       "      <th>54</th>\n",
       "      <th>57</th>\n",
       "      <th>...</th>\n",
       "      <th>151</th>\n",
       "      <th>152</th>\n",
       "      <th>153</th>\n",
       "      <th>154</th>\n",
       "      <th>155</th>\n",
       "      <th>156</th>\n",
       "      <th>157</th>\n",
       "      <th>158</th>\n",
       "      <th>159</th>\n",
       "      <th>160</th>\n",
       "    </tr>\n",
       "  </thead>\n",
       "  <tbody>\n",
       "    <tr>\n",
       "      <th>0</th>\n",
       "      <td>9.018695</td>\n",
       "      <td>NaN</td>\n",
       "      <td>NaN</td>\n",
       "      <td>NaN</td>\n",
       "      <td>NaN</td>\n",
       "      <td>NaN</td>\n",
       "      <td>NaN</td>\n",
       "      <td>NaN</td>\n",
       "      <td>NaN</td>\n",
       "      <td>NaN</td>\n",
       "      <td>...</td>\n",
       "      <td>NaN</td>\n",
       "      <td>NaN</td>\n",
       "      <td>NaN</td>\n",
       "      <td>NaN</td>\n",
       "      <td>NaN</td>\n",
       "      <td>NaN</td>\n",
       "      <td>NaN</td>\n",
       "      <td>NaN</td>\n",
       "      <td>NaN</td>\n",
       "      <td>NaN</td>\n",
       "    </tr>\n",
       "    <tr>\n",
       "      <th>1</th>\n",
       "      <td>NaN</td>\n",
       "      <td>8.723231</td>\n",
       "      <td>NaN</td>\n",
       "      <td>NaN</td>\n",
       "      <td>NaN</td>\n",
       "      <td>NaN</td>\n",
       "      <td>NaN</td>\n",
       "      <td>NaN</td>\n",
       "      <td>NaN</td>\n",
       "      <td>NaN</td>\n",
       "      <td>...</td>\n",
       "      <td>NaN</td>\n",
       "      <td>NaN</td>\n",
       "      <td>NaN</td>\n",
       "      <td>NaN</td>\n",
       "      <td>NaN</td>\n",
       "      <td>NaN</td>\n",
       "      <td>NaN</td>\n",
       "      <td>NaN</td>\n",
       "      <td>NaN</td>\n",
       "      <td>NaN</td>\n",
       "    </tr>\n",
       "    <tr>\n",
       "      <th>2</th>\n",
       "      <td>NaN</td>\n",
       "      <td>NaN</td>\n",
       "      <td>8.253228</td>\n",
       "      <td>NaN</td>\n",
       "      <td>NaN</td>\n",
       "      <td>NaN</td>\n",
       "      <td>NaN</td>\n",
       "      <td>NaN</td>\n",
       "      <td>NaN</td>\n",
       "      <td>NaN</td>\n",
       "      <td>...</td>\n",
       "      <td>NaN</td>\n",
       "      <td>NaN</td>\n",
       "      <td>NaN</td>\n",
       "      <td>NaN</td>\n",
       "      <td>NaN</td>\n",
       "      <td>NaN</td>\n",
       "      <td>NaN</td>\n",
       "      <td>NaN</td>\n",
       "      <td>NaN</td>\n",
       "      <td>NaN</td>\n",
       "    </tr>\n",
       "    <tr>\n",
       "      <th>3</th>\n",
       "      <td>NaN</td>\n",
       "      <td>NaN</td>\n",
       "      <td>NaN</td>\n",
       "      <td>8.987197</td>\n",
       "      <td>NaN</td>\n",
       "      <td>NaN</td>\n",
       "      <td>NaN</td>\n",
       "      <td>NaN</td>\n",
       "      <td>NaN</td>\n",
       "      <td>NaN</td>\n",
       "      <td>...</td>\n",
       "      <td>NaN</td>\n",
       "      <td>NaN</td>\n",
       "      <td>NaN</td>\n",
       "      <td>NaN</td>\n",
       "      <td>NaN</td>\n",
       "      <td>NaN</td>\n",
       "      <td>NaN</td>\n",
       "      <td>NaN</td>\n",
       "      <td>NaN</td>\n",
       "      <td>NaN</td>\n",
       "    </tr>\n",
       "    <tr>\n",
       "      <th>4</th>\n",
       "      <td>NaN</td>\n",
       "      <td>NaN</td>\n",
       "      <td>NaN</td>\n",
       "      <td>NaN</td>\n",
       "      <td>9.093357</td>\n",
       "      <td>NaN</td>\n",
       "      <td>NaN</td>\n",
       "      <td>NaN</td>\n",
       "      <td>NaN</td>\n",
       "      <td>NaN</td>\n",
       "      <td>...</td>\n",
       "      <td>NaN</td>\n",
       "      <td>NaN</td>\n",
       "      <td>NaN</td>\n",
       "      <td>NaN</td>\n",
       "      <td>NaN</td>\n",
       "      <td>NaN</td>\n",
       "      <td>NaN</td>\n",
       "      <td>NaN</td>\n",
       "      <td>NaN</td>\n",
       "      <td>NaN</td>\n",
       "    </tr>\n",
       "    <tr>\n",
       "      <th>...</th>\n",
       "      <td>...</td>\n",
       "      <td>...</td>\n",
       "      <td>...</td>\n",
       "      <td>...</td>\n",
       "      <td>...</td>\n",
       "      <td>...</td>\n",
       "      <td>...</td>\n",
       "      <td>...</td>\n",
       "      <td>...</td>\n",
       "      <td>...</td>\n",
       "      <td>...</td>\n",
       "      <td>...</td>\n",
       "      <td>...</td>\n",
       "      <td>...</td>\n",
       "      <td>...</td>\n",
       "      <td>...</td>\n",
       "      <td>...</td>\n",
       "      <td>...</td>\n",
       "      <td>...</td>\n",
       "      <td>...</td>\n",
       "      <td>...</td>\n",
       "    </tr>\n",
       "    <tr>\n",
       "      <th>57</th>\n",
       "      <td>NaN</td>\n",
       "      <td>NaN</td>\n",
       "      <td>NaN</td>\n",
       "      <td>NaN</td>\n",
       "      <td>NaN</td>\n",
       "      <td>NaN</td>\n",
       "      <td>NaN</td>\n",
       "      <td>NaN</td>\n",
       "      <td>NaN</td>\n",
       "      <td>NaN</td>\n",
       "      <td>...</td>\n",
       "      <td>NaN</td>\n",
       "      <td>NaN</td>\n",
       "      <td>NaN</td>\n",
       "      <td>NaN</td>\n",
       "      <td>NaN</td>\n",
       "      <td>NaN</td>\n",
       "      <td>NaN</td>\n",
       "      <td>NaN</td>\n",
       "      <td>NaN</td>\n",
       "      <td>NaN</td>\n",
       "    </tr>\n",
       "    <tr>\n",
       "      <th>58</th>\n",
       "      <td>NaN</td>\n",
       "      <td>NaN</td>\n",
       "      <td>NaN</td>\n",
       "      <td>NaN</td>\n",
       "      <td>NaN</td>\n",
       "      <td>NaN</td>\n",
       "      <td>NaN</td>\n",
       "      <td>NaN</td>\n",
       "      <td>NaN</td>\n",
       "      <td>NaN</td>\n",
       "      <td>...</td>\n",
       "      <td>NaN</td>\n",
       "      <td>NaN</td>\n",
       "      <td>NaN</td>\n",
       "      <td>NaN</td>\n",
       "      <td>NaN</td>\n",
       "      <td>NaN</td>\n",
       "      <td>NaN</td>\n",
       "      <td>NaN</td>\n",
       "      <td>NaN</td>\n",
       "      <td>NaN</td>\n",
       "    </tr>\n",
       "    <tr>\n",
       "      <th>59</th>\n",
       "      <td>NaN</td>\n",
       "      <td>NaN</td>\n",
       "      <td>NaN</td>\n",
       "      <td>NaN</td>\n",
       "      <td>NaN</td>\n",
       "      <td>NaN</td>\n",
       "      <td>NaN</td>\n",
       "      <td>NaN</td>\n",
       "      <td>NaN</td>\n",
       "      <td>NaN</td>\n",
       "      <td>...</td>\n",
       "      <td>NaN</td>\n",
       "      <td>NaN</td>\n",
       "      <td>NaN</td>\n",
       "      <td>NaN</td>\n",
       "      <td>NaN</td>\n",
       "      <td>NaN</td>\n",
       "      <td>NaN</td>\n",
       "      <td>NaN</td>\n",
       "      <td>NaN</td>\n",
       "      <td>NaN</td>\n",
       "    </tr>\n",
       "    <tr>\n",
       "      <th>60</th>\n",
       "      <td>NaN</td>\n",
       "      <td>NaN</td>\n",
       "      <td>NaN</td>\n",
       "      <td>NaN</td>\n",
       "      <td>NaN</td>\n",
       "      <td>NaN</td>\n",
       "      <td>NaN</td>\n",
       "      <td>NaN</td>\n",
       "      <td>NaN</td>\n",
       "      <td>NaN</td>\n",
       "      <td>...</td>\n",
       "      <td>NaN</td>\n",
       "      <td>NaN</td>\n",
       "      <td>NaN</td>\n",
       "      <td>NaN</td>\n",
       "      <td>NaN</td>\n",
       "      <td>NaN</td>\n",
       "      <td>NaN</td>\n",
       "      <td>NaN</td>\n",
       "      <td>NaN</td>\n",
       "      <td>NaN</td>\n",
       "    </tr>\n",
       "    <tr>\n",
       "      <th>61</th>\n",
       "      <td>NaN</td>\n",
       "      <td>NaN</td>\n",
       "      <td>NaN</td>\n",
       "      <td>NaN</td>\n",
       "      <td>NaN</td>\n",
       "      <td>NaN</td>\n",
       "      <td>NaN</td>\n",
       "      <td>NaN</td>\n",
       "      <td>NaN</td>\n",
       "      <td>NaN</td>\n",
       "      <td>...</td>\n",
       "      <td>NaN</td>\n",
       "      <td>NaN</td>\n",
       "      <td>NaN</td>\n",
       "      <td>NaN</td>\n",
       "      <td>NaN</td>\n",
       "      <td>NaN</td>\n",
       "      <td>NaN</td>\n",
       "      <td>NaN</td>\n",
       "      <td>NaN</td>\n",
       "      <td>NaN</td>\n",
       "    </tr>\n",
       "  </tbody>\n",
       "</table>\n",
       "<p>62 rows × 9649 columns</p>\n",
       "</div>"
      ],
      "text/plain": [
       "store       2                                                                \\\n",
       "week        40        46        47        48        50  51  52  53  54  57    \n",
       "0      9.018695       NaN       NaN       NaN       NaN NaN NaN NaN NaN NaN   \n",
       "1           NaN  8.723231       NaN       NaN       NaN NaN NaN NaN NaN NaN   \n",
       "2           NaN       NaN  8.253228       NaN       NaN NaN NaN NaN NaN NaN   \n",
       "3           NaN       NaN       NaN  8.987197       NaN NaN NaN NaN NaN NaN   \n",
       "4           NaN       NaN       NaN       NaN  9.093357 NaN NaN NaN NaN NaN   \n",
       "..          ...       ...       ...       ...       ...  ..  ..  ..  ..  ..   \n",
       "57          NaN       NaN       NaN       NaN       NaN NaN NaN NaN NaN NaN   \n",
       "58          NaN       NaN       NaN       NaN       NaN NaN NaN NaN NaN NaN   \n",
       "59          NaN       NaN       NaN       NaN       NaN NaN NaN NaN NaN NaN   \n",
       "60          NaN       NaN       NaN       NaN       NaN NaN NaN NaN NaN NaN   \n",
       "61          NaN       NaN       NaN       NaN       NaN NaN NaN NaN NaN NaN   \n",
       "\n",
       "store  ... 137                                      \n",
       "week   ... 151 152 153 154 155 156 157 158 159 160  \n",
       "0      ... NaN NaN NaN NaN NaN NaN NaN NaN NaN NaN  \n",
       "1      ... NaN NaN NaN NaN NaN NaN NaN NaN NaN NaN  \n",
       "2      ... NaN NaN NaN NaN NaN NaN NaN NaN NaN NaN  \n",
       "3      ... NaN NaN NaN NaN NaN NaN NaN NaN NaN NaN  \n",
       "4      ... NaN NaN NaN NaN NaN NaN NaN NaN NaN NaN  \n",
       "..     ...  ..  ..  ..  ..  ..  ..  ..  ..  ..  ..  \n",
       "57     ... NaN NaN NaN NaN NaN NaN NaN NaN NaN NaN  \n",
       "58     ... NaN NaN NaN NaN NaN NaN NaN NaN NaN NaN  \n",
       "59     ... NaN NaN NaN NaN NaN NaN NaN NaN NaN NaN  \n",
       "60     ... NaN NaN NaN NaN NaN NaN NaN NaN NaN NaN  \n",
       "61     ... NaN NaN NaN NaN NaN NaN NaN NaN NaN NaN  \n",
       "\n",
       "[62 rows x 9649 columns]"
      ]
     },
     "execution_count": 112,
     "metadata": {},
     "output_type": "execute_result"
    }
   ],
   "source": [
    "store_sales[]"
   ]
  },
  {
   "cell_type": "code",
   "execution_count": 225,
   "metadata": {
    "deletable": false,
    "editable": false,
    "nbgrader": {
     "cell_type": "code",
     "checksum": "7a4900a720c240365e8de2581cb2e72a",
     "grade": true,
     "grade_id": "store-analysis-correct",
     "locked": true,
     "points": 1,
     "schema_version": 3,
     "solution": false
    }
   },
   "outputs": [
    {
     "data": {
      "text/html": [
       "<div>\n",
       "<style scoped>\n",
       "    .dataframe tbody tr th:only-of-type {\n",
       "        vertical-align: middle;\n",
       "    }\n",
       "\n",
       "    .dataframe tbody tr th {\n",
       "        vertical-align: top;\n",
       "    }\n",
       "\n",
       "    .dataframe thead th {\n",
       "        text-align: right;\n",
       "    }\n",
       "</style>\n",
       "<table border=\"1\" class=\"dataframe\">\n",
       "  <thead>\n",
       "    <tr style=\"text-align: right;\">\n",
       "      <th>week</th>\n",
       "      <th>40</th>\n",
       "      <th>41</th>\n",
       "      <th>42</th>\n",
       "      <th>43</th>\n",
       "      <th>44</th>\n",
       "      <th>45</th>\n",
       "      <th>46</th>\n",
       "      <th>47</th>\n",
       "      <th>48</th>\n",
       "      <th>49</th>\n",
       "      <th>...</th>\n",
       "      <th>151</th>\n",
       "      <th>152</th>\n",
       "      <th>153</th>\n",
       "      <th>154</th>\n",
       "      <th>155</th>\n",
       "      <th>156</th>\n",
       "      <th>157</th>\n",
       "      <th>158</th>\n",
       "      <th>159</th>\n",
       "      <th>160</th>\n",
       "    </tr>\n",
       "  </thead>\n",
       "  <tbody>\n",
       "    <tr>\n",
       "      <th>Best store</th>\n",
       "      <td>9.373819</td>\n",
       "      <td>9.368369</td>\n",
       "      <td>9.570529</td>\n",
       "      <td>9.400630</td>\n",
       "      <td>9.329367</td>\n",
       "      <td>9.631154</td>\n",
       "      <td>9.264829</td>\n",
       "      <td>NaN</td>\n",
       "      <td>9.501217</td>\n",
       "      <td>9.246479</td>\n",
       "      <td>...</td>\n",
       "      <td>9.373819</td>\n",
       "      <td>9.631154</td>\n",
       "      <td>9.208739</td>\n",
       "      <td>10.313741</td>\n",
       "      <td>9.892224</td>\n",
       "      <td>10.463332</td>\n",
       "      <td>9.797238</td>\n",
       "      <td>9.534161</td>\n",
       "      <td>10.263676</td>\n",
       "      <td>9.609922</td>\n",
       "    </tr>\n",
       "    <tr>\n",
       "      <th>Worst store</th>\n",
       "      <td>8.971067</td>\n",
       "      <td>8.392990</td>\n",
       "      <td>9.018695</td>\n",
       "      <td>8.624791</td>\n",
       "      <td>8.476371</td>\n",
       "      <td>8.877382</td>\n",
       "      <td>8.669743</td>\n",
       "      <td>8.774004</td>\n",
       "      <td>8.954674</td>\n",
       "      <td>8.435549</td>\n",
       "      <td>...</td>\n",
       "      <td>8.929568</td>\n",
       "      <td>9.294682</td>\n",
       "      <td>8.764053</td>\n",
       "      <td>9.818365</td>\n",
       "      <td>9.329367</td>\n",
       "      <td>10.389365</td>\n",
       "      <td>9.605620</td>\n",
       "      <td>9.258750</td>\n",
       "      <td>9.957976</td>\n",
       "      <td>9.114710</td>\n",
       "    </tr>\n",
       "  </tbody>\n",
       "</table>\n",
       "<p>2 rows × 121 columns</p>\n",
       "</div>"
      ],
      "text/plain": [
       "week              40        41        42        43        44        45   \\\n",
       "Best store   9.373819  9.368369  9.570529  9.400630  9.329367  9.631154   \n",
       "Worst store  8.971067  8.392990  9.018695  8.624791  8.476371  8.877382   \n",
       "\n",
       "week              46        47        48        49   ...       151       152  \\\n",
       "Best store   9.264829       NaN  9.501217  9.246479  ...  9.373819  9.631154   \n",
       "Worst store  8.669743  8.774004  8.954674  8.435549  ...  8.929568  9.294682   \n",
       "\n",
       "week              153        154       155        156       157       158  \\\n",
       "Best store   9.208739  10.313741  9.892224  10.463332  9.797238  9.534161   \n",
       "Worst store  8.764053   9.818365  9.329367  10.389365  9.605620  9.258750   \n",
       "\n",
       "week               159       160  \n",
       "Best store   10.263676  9.609922  \n",
       "Worst store   9.957976  9.114710  \n",
       "\n",
       "[2 rows x 121 columns]"
      ]
     },
     "metadata": {},
     "output_type": "display_data"
    }
   ],
   "source": [
    "display(store_sales)"
   ]
  },
  {
   "cell_type": "markdown",
   "metadata": {},
   "source": [
    "The previous picture does not explain why the best store does better than the worst store. Let us study if the price influences the sales. Prepare a dataframe with two columns (the column *price* and the column *logmove*), with records only related to *max_store*. Assign this dataframe to variable *oj1*. Also create a table with the *price* and *logmove* with only records for store *min_store*. Assign this dataframe to variable *oj2*. "
   ]
  },
  {
   "cell_type": "code",
   "execution_count": 226,
   "metadata": {
    "deletable": false,
    "nbgrader": {
     "cell_type": "code",
     "checksum": "94fd966cbf853439c7a216e5185d0a18",
     "grade": false,
     "grade_id": "regression",
     "locked": false,
     "schema_version": 3,
     "solution": true
    }
   },
   "outputs": [
    {
     "name": "stdout",
     "output_type": "stream",
     "text": [
      "const    9.153937\n",
      "price   -0.014614\n",
      "dtype: float64\n",
      "const    10.876949\n",
      "price    -0.672225\n",
      "dtype: float64\n"
     ]
    }
   ],
   "source": [
    "import statsmodels.api as sm\n",
    "\n",
    "# YOUR CODE HERE\n",
    "oj1 = oj.loc[oj['store'] == max_store][['price', 'logmove']]\n",
    "oj2 = oj.loc[oj['store'] == min_store][['price', 'logmove']]\n",
    "\n",
    "# YOUR CODE ENDS HERE\n",
    "\n",
    "fit1 = sm.OLS(oj1['logmove'], sm.add_constant(oj1['price'])).fit()\n",
    "fit2 = sm.OLS(oj2['logmove'], sm.add_constant(oj2['price'])).fit()\n",
    "\n",
    "print(fit1.params)\n",
    "print(fit2.params)"
   ]
  },
  {
   "cell_type": "code",
   "execution_count": 227,
   "metadata": {
    "deletable": false,
    "editable": false,
    "nbgrader": {
     "cell_type": "code",
     "checksum": "81a95b3e40be40405e4f0b2dfa9645fb",
     "grade": true,
     "grade_id": "regression-correct",
     "locked": true,
     "points": 1,
     "schema_version": 3,
     "solution": false
    }
   },
   "outputs": [
    {
     "data": {
      "text/html": [
       "<div>\n",
       "<style scoped>\n",
       "    .dataframe tbody tr th:only-of-type {\n",
       "        vertical-align: middle;\n",
       "    }\n",
       "\n",
       "    .dataframe tbody tr th {\n",
       "        vertical-align: top;\n",
       "    }\n",
       "\n",
       "    .dataframe thead th {\n",
       "        text-align: right;\n",
       "    }\n",
       "</style>\n",
       "<table border=\"1\" class=\"dataframe\">\n",
       "  <thead>\n",
       "    <tr style=\"text-align: right;\">\n",
       "      <th></th>\n",
       "      <th>price</th>\n",
       "      <th>logmove</th>\n",
       "    </tr>\n",
       "  </thead>\n",
       "  <tbody>\n",
       "    <tr>\n",
       "      <th>8373</th>\n",
       "      <td>3.87</td>\n",
       "      <td>9.373819</td>\n",
       "    </tr>\n",
       "    <tr>\n",
       "      <th>8374</th>\n",
       "      <td>3.87</td>\n",
       "      <td>9.368369</td>\n",
       "    </tr>\n",
       "    <tr>\n",
       "      <th>8375</th>\n",
       "      <td>3.87</td>\n",
       "      <td>9.570529</td>\n",
       "    </tr>\n",
       "    <tr>\n",
       "      <th>8376</th>\n",
       "      <td>3.87</td>\n",
       "      <td>9.400630</td>\n",
       "    </tr>\n",
       "    <tr>\n",
       "      <th>8377</th>\n",
       "      <td>3.87</td>\n",
       "      <td>9.329367</td>\n",
       "    </tr>\n",
       "    <tr>\n",
       "      <th>...</th>\n",
       "      <td>...</td>\n",
       "      <td>...</td>\n",
       "    </tr>\n",
       "    <tr>\n",
       "      <th>8719</th>\n",
       "      <td>2.09</td>\n",
       "      <td>7.491088</td>\n",
       "    </tr>\n",
       "    <tr>\n",
       "      <th>8720</th>\n",
       "      <td>1.94</td>\n",
       "      <td>7.714231</td>\n",
       "    </tr>\n",
       "    <tr>\n",
       "      <th>8721</th>\n",
       "      <td>1.94</td>\n",
       "      <td>8.236421</td>\n",
       "    </tr>\n",
       "    <tr>\n",
       "      <th>8722</th>\n",
       "      <td>1.49</td>\n",
       "      <td>10.157820</td>\n",
       "    </tr>\n",
       "    <tr>\n",
       "      <th>8723</th>\n",
       "      <td>1.94</td>\n",
       "      <td>8.743851</td>\n",
       "    </tr>\n",
       "  </tbody>\n",
       "</table>\n",
       "<p>351 rows × 2 columns</p>\n",
       "</div>"
      ],
      "text/plain": [
       "      price    logmove\n",
       "8373   3.87   9.373819\n",
       "8374   3.87   9.368369\n",
       "8375   3.87   9.570529\n",
       "8376   3.87   9.400630\n",
       "8377   3.87   9.329367\n",
       "...     ...        ...\n",
       "8719   2.09   7.491088\n",
       "8720   1.94   7.714231\n",
       "8721   1.94   8.236421\n",
       "8722   1.49  10.157820\n",
       "8723   1.94   8.743851\n",
       "\n",
       "[351 rows x 2 columns]"
      ]
     },
     "metadata": {},
     "output_type": "display_data"
    },
    {
     "data": {
      "text/html": [
       "<div>\n",
       "<style scoped>\n",
       "    .dataframe tbody tr th:only-of-type {\n",
       "        vertical-align: middle;\n",
       "    }\n",
       "\n",
       "    .dataframe tbody tr th {\n",
       "        vertical-align: top;\n",
       "    }\n",
       "\n",
       "    .dataframe thead th {\n",
       "        text-align: right;\n",
       "    }\n",
       "</style>\n",
       "<table border=\"1\" class=\"dataframe\">\n",
       "  <thead>\n",
       "    <tr style=\"text-align: right;\">\n",
       "      <th></th>\n",
       "      <th>price</th>\n",
       "      <th>logmove</th>\n",
       "    </tr>\n",
       "  </thead>\n",
       "  <tbody>\n",
       "    <tr>\n",
       "      <th>11490</th>\n",
       "      <td>3.87</td>\n",
       "      <td>8.971067</td>\n",
       "    </tr>\n",
       "    <tr>\n",
       "      <th>11491</th>\n",
       "      <td>3.87</td>\n",
       "      <td>8.392990</td>\n",
       "    </tr>\n",
       "    <tr>\n",
       "      <th>11492</th>\n",
       "      <td>3.87</td>\n",
       "      <td>9.018695</td>\n",
       "    </tr>\n",
       "    <tr>\n",
       "      <th>11493</th>\n",
       "      <td>3.87</td>\n",
       "      <td>8.624791</td>\n",
       "    </tr>\n",
       "    <tr>\n",
       "      <th>11494</th>\n",
       "      <td>3.87</td>\n",
       "      <td>8.476371</td>\n",
       "    </tr>\n",
       "    <tr>\n",
       "      <th>...</th>\n",
       "      <td>...</td>\n",
       "      <td>...</td>\n",
       "    </tr>\n",
       "    <tr>\n",
       "      <th>11839</th>\n",
       "      <td>1.97</td>\n",
       "      <td>8.528331</td>\n",
       "    </tr>\n",
       "    <tr>\n",
       "      <th>11840</th>\n",
       "      <td>1.94</td>\n",
       "      <td>8.868413</td>\n",
       "    </tr>\n",
       "    <tr>\n",
       "      <th>11841</th>\n",
       "      <td>1.68</td>\n",
       "      <td>9.510741</td>\n",
       "    </tr>\n",
       "    <tr>\n",
       "      <th>11842</th>\n",
       "      <td>1.49</td>\n",
       "      <td>10.806571</td>\n",
       "    </tr>\n",
       "    <tr>\n",
       "      <th>11843</th>\n",
       "      <td>1.71</td>\n",
       "      <td>9.436998</td>\n",
       "    </tr>\n",
       "  </tbody>\n",
       "</table>\n",
       "<p>354 rows × 2 columns</p>\n",
       "</div>"
      ],
      "text/plain": [
       "       price    logmove\n",
       "11490   3.87   8.971067\n",
       "11491   3.87   8.392990\n",
       "11492   3.87   9.018695\n",
       "11493   3.87   8.624791\n",
       "11494   3.87   8.476371\n",
       "...      ...        ...\n",
       "11839   1.97   8.528331\n",
       "11840   1.94   8.868413\n",
       "11841   1.68   9.510741\n",
       "11842   1.49  10.806571\n",
       "11843   1.71   9.436998\n",
       "\n",
       "[354 rows x 2 columns]"
      ]
     },
     "metadata": {},
     "output_type": "display_data"
    }
   ],
   "source": [
    "display(oj1, oj2)"
   ]
  },
  {
   "cell_type": "markdown",
   "metadata": {},
   "source": [
    "The previous analysis explains the difference between the two stores. The best store has almost no sensitivity to the price. The worst store has a high negative sensitivity to the price. Hence, the best store can charge higher prices than the worst store.\n",
    "\n",
    "Let us now see which brand is the most popular. Create a series in with the three brands (*brand*) and the total number of the sales (sum of *logmove*). Assign the result to the variable *brand_sales*."
   ]
  },
  {
   "cell_type": "code",
   "execution_count": 228,
   "metadata": {
    "deletable": false,
    "nbgrader": {
     "cell_type": "code",
     "checksum": "7db2cf67bbc5e2411480efb4d681b8a0",
     "grade": false,
     "grade_id": "brand",
     "locked": false,
     "schema_version": 3,
     "solution": true
    }
   },
   "outputs": [],
   "source": [
    "# YOUR CODE HERE\n",
    "brand_sales = oj['logmove'].groupby(oj['brand']).sum()\n",
    "\n",
    "# YOUR CODE ENDS HERE"
   ]
  },
  {
   "cell_type": "code",
   "execution_count": 229,
   "metadata": {
    "deletable": false,
    "editable": false,
    "nbgrader": {
     "cell_type": "code",
     "checksum": "9e3f56b1fc5198ac991fc0ec6bd688a3",
     "grade": true,
     "grade_id": "brand-correct",
     "locked": true,
     "points": 1,
     "schema_version": 3,
     "solution": false
    }
   },
   "outputs": [
    {
     "name": "stdout",
     "output_type": "stream",
     "text": [
      "brand\n",
      "dominicks      88527.943226\n",
      "minute.maid    88937.517267\n",
      "tropicana      87916.698522\n",
      "Name: logmove, dtype: float64\n"
     ]
    }
   ],
   "source": [
    "print(brand_sales)"
   ]
  },
  {
   "cell_type": "markdown",
   "metadata": {},
   "source": [
    "The column *feat* determines if the orange juice is on sale. Create a dataframe with as row the different brands of orange juice (*brand*) and as columns the indicator for the sale (*feat*). The values in the dataframe contain the mean price of the specific orange juices. Assign the value to the variable *featured*."
   ]
  },
  {
   "cell_type": "code",
   "execution_count": 230,
   "metadata": {
    "deletable": false,
    "nbgrader": {
     "cell_type": "code",
     "checksum": "d041e38eadf3fd51d77fa0de0b2475b7",
     "grade": false,
     "grade_id": "featured",
     "locked": false,
     "schema_version": 3,
     "solution": true
    }
   },
   "outputs": [],
   "source": [
    "# YOUR CODE HERE\n",
    "featured = oj.pivot_table(values='price', columns=['feat'], index='brand')\n",
    "\n",
    "# YOUR CODE ENDS HERE"
   ]
  },
  {
   "cell_type": "code",
   "execution_count": 231,
   "metadata": {
    "deletable": false,
    "editable": false,
    "nbgrader": {
     "cell_type": "code",
     "checksum": "5a735e83dbe81949704a7b613095ddac",
     "grade": true,
     "grade_id": "featured-correct",
     "locked": true,
     "points": 1,
     "schema_version": 3,
     "solution": false
    }
   },
   "outputs": [
    {
     "data": {
      "text/html": [
       "<div>\n",
       "<style scoped>\n",
       "    .dataframe tbody tr th:only-of-type {\n",
       "        vertical-align: middle;\n",
       "    }\n",
       "\n",
       "    .dataframe tbody tr th {\n",
       "        vertical-align: top;\n",
       "    }\n",
       "\n",
       "    .dataframe thead th {\n",
       "        text-align: right;\n",
       "    }\n",
       "</style>\n",
       "<table border=\"1\" class=\"dataframe\">\n",
       "  <thead>\n",
       "    <tr style=\"text-align: right;\">\n",
       "      <th>feat</th>\n",
       "      <th>0</th>\n",
       "      <th>1</th>\n",
       "    </tr>\n",
       "    <tr>\n",
       "      <th>brand</th>\n",
       "      <th></th>\n",
       "      <th></th>\n",
       "    </tr>\n",
       "  </thead>\n",
       "  <tbody>\n",
       "    <tr>\n",
       "      <th>dominicks</th>\n",
       "      <td>1.795460</td>\n",
       "      <td>1.563375</td>\n",
       "    </tr>\n",
       "    <tr>\n",
       "      <th>minute.maid</th>\n",
       "      <td>2.328877</td>\n",
       "      <td>2.024867</td>\n",
       "    </tr>\n",
       "    <tr>\n",
       "      <th>tropicana</th>\n",
       "      <td>2.966131</td>\n",
       "      <td>2.390817</td>\n",
       "    </tr>\n",
       "  </tbody>\n",
       "</table>\n",
       "</div>"
      ],
      "text/plain": [
       "feat                0         1\n",
       "brand                          \n",
       "dominicks    1.795460  1.563375\n",
       "minute.maid  2.328877  2.024867\n",
       "tropicana    2.966131  2.390817"
      ]
     },
     "metadata": {},
     "output_type": "display_data"
    }
   ],
   "source": [
    "display(featured)"
   ]
  }
 ],
 "metadata": {
  "kernelspec": {
   "display_name": "Python 3",
   "language": "python",
   "name": "python3"
  },
  "language_info": {
   "codemirror_mode": {
    "name": "ipython",
    "version": 3
   },
   "file_extension": ".py",
   "mimetype": "text/x-python",
   "name": "python",
   "nbconvert_exporter": "python",
   "pygments_lexer": "ipython3",
   "version": "3.9.8"
  }
 },
 "nbformat": 4,
 "nbformat_minor": 2
}
