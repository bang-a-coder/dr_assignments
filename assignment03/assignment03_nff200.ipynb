{
 "cells": [
  {
   "cell_type": "markdown",
   "metadata": {},
   "source": [
    "# Assignment 3"
   ]
  },
  {
   "cell_type": "markdown",
   "metadata": {},
   "source": [
    "* <b>Do not change the structure</b> of the notebook, only fill in the parts where your code needs to be filled in.\n",
    "\n",
    "---\n",
    "\n",
    "* Read carefully if the assignment asks for a Pandas **dataframe** or a Pandas **series**.\n",
    "\n",
    "--- \n",
    "\n",
    "* For your notebook, <b>use as filename</b> `assignment03_vunetID.ipynb`, where `vunetID` is your three letter, three digit VU ID."
   ]
  },
  {
   "cell_type": "code",
   "execution_count": 325,
   "metadata": {
    "deletable": false,
    "editable": false,
    "nbgrader": {
     "cell_type": "code",
     "checksum": "cd3ecc13604d15a89bbb1bebcb80e5c5",
     "grade": false,
     "grade_id": "libraries",
     "locked": true,
     "schema_version": 3,
     "solution": false
    }
   },
   "outputs": [],
   "source": [
    "import numpy as np\n",
    "import pandas as pd\n",
    "import matplotlib.pyplot as plt\n",
    "pd.options.display.max_rows = 20\n",
    "np.set_printoptions(precision=4, suppress=True)"
   ]
  },
  {
   "cell_type": "markdown",
   "metadata": {},
   "source": [
    "### Datetime manipulations\n",
    "\n",
    "The Data Wrangling course started on Tuesday 11 January 2022 at 1.30 pm and will end on Friday 4 February 2022 at 5.00 pm. Calculate the duration of the course in minutes. Assign the value to the variable *duration*.\n"
   ]
  },
  {
   "cell_type": "code",
   "execution_count": 326,
   "metadata": {
    "deletable": false,
    "nbgrader": {
     "cell_type": "code",
     "checksum": "bf9d686d3d41aa5aa1801f06db6bd896",
     "grade": false,
     "grade_id": "duration",
     "locked": false,
     "schema_version": 3,
     "solution": true
    }
   },
   "outputs": [],
   "source": [
    "from datetime import datetime\n",
    "from dateutil.parser import parse\n",
    "\n",
    "# YOUR CODE HERE\n",
    "start = parse('Jan 11, 2022 1:30PM')\n",
    "end = parse('Feb 4, 2022 5PM')\n",
    "\n",
    "duration = end - start\n",
    "\n",
    "# YOUR CODE ENDS HERE"
   ]
  },
  {
   "cell_type": "code",
   "execution_count": 327,
   "metadata": {
    "deletable": false,
    "editable": false,
    "nbgrader": {
     "cell_type": "code",
     "checksum": "a29b5a0fc095be7cd6b522a230f9a929",
     "grade": true,
     "grade_id": "duration-correct",
     "locked": true,
     "points": 1,
     "schema_version": 3,
     "solution": false
    }
   },
   "outputs": [
    {
     "name": "stdout",
     "output_type": "stream",
     "text": [
      "24 days, 3:30:00\n"
     ]
    }
   ],
   "source": [
    "print(duration)"
   ]
  },
  {
   "cell_type": "markdown",
   "metadata": {},
   "source": [
    "Below you will find the scheduled days of the course Data Wrangling. The values in the time series denote the number of contact hours spend on each lecture. Create a time series that calculates the cumulative sum of all the hours that you have spent on the course. Assign the cumulative sum upto 31 January 2022 to the variable *cum_hours*."
   ]
  },
  {
   "cell_type": "code",
   "execution_count": 328,
   "metadata": {
    "deletable": false,
    "nbgrader": {
     "cell_type": "code",
     "checksum": "9f99d400a8a8492515b14dd0bc947adc",
     "grade": false,
     "grade_id": "cum-hours",
     "locked": false,
     "schema_version": 3,
     "solution": true
    }
   },
   "outputs": [],
   "source": [
    "from datetime import datetime\n",
    "from pandas.tseries.offsets import *\n",
    "\n",
    "\n",
    "dates = [datetime(2022, 1, 11), datetime(2022, 1, 13), datetime(2022, 1, 14),\n",
    "         datetime(2022, 1, 18), datetime(2022, 1, 20), datetime(2022, 1, 21),\n",
    "         datetime(2022, 1, 25), datetime(2022, 1, 27), datetime(2022, 1, 28),\n",
    "         datetime(2022, 2,  1), datetime(2022, 2,  2), datetime(2022, 2,  3),\n",
    "         datetime(2022, 2,  4)]\n",
    "ts = pd.Series([2, 2, 1, 2, 2, 1, 2, 2, 1, 3, 3, 3, 3], index = dates)\n",
    "\n",
    "# YOUR CODE HERE\n",
    "cum_hours = sum(ts[:datetime(2022,1,31)])\n",
    "# YOUR CODE ENDS HERE"
   ]
  },
  {
   "cell_type": "markdown",
   "metadata": {},
   "source": [
    "Suppose that you want to become a world-class expert in data wrangling. So, you decide to spent 2 hours learning data wrangling every Tuesday in 2022. As you have a lot of free time every first Wednesday of the month, you spent 3 hours learning data wrangling those days in 2022. Calculate how many hours you will spend learning in 2022. Assign that value to the variable *study_hours*."
   ]
  },
  {
   "cell_type": "code",
   "execution_count": 329,
   "metadata": {
    "deletable": false,
    "nbgrader": {
     "cell_type": "code",
     "checksum": "92a179674f7e6b3479cdbc4561aaeee8",
     "grade": false,
     "grade_id": "study-hours",
     "locked": false,
     "schema_version": 3,
     "solution": true
    }
   },
   "outputs": [],
   "source": [
    "from datetime import datetime\n",
    "\n",
    "# YOUR CODE HERE\n",
    "tuesdays = pd.date_range('2022-1-1', '2022-12-31', freq='W-TUE')\n",
    "ts_t = pd.Series([2 for i in range(0, len(tuesdays))], index=tuesdays, name='prac_tue')\n",
    "\n",
    "wednesday_firsts = pd.date_range('2022-1-1', '2022-12-31', freq='WOM-1WED')\n",
    "ts_w = pd.Series([3 for i in range(0, len(wednesday_firsts))], index=wednesday_firsts, name='pract_wed')\n",
    "\n",
    "pract_days = pd.concat([ts_t, ts_w]).sort_index()\n",
    "\n",
    "study_hours = sum(pract_days)\n",
    "# YOUR CODE ENDS HERE"
   ]
  },
  {
   "cell_type": "code",
   "execution_count": 330,
   "metadata": {
    "deletable": false,
    "editable": false,
    "nbgrader": {
     "cell_type": "code",
     "checksum": "1451e80574e09826ecd30ccc3a7bc10e",
     "grade": true,
     "grade_id": "study-hours-correct",
     "locked": true,
     "points": 1,
     "schema_version": 3,
     "solution": false
    }
   },
   "outputs": [
    {
     "name": "stdout",
     "output_type": "stream",
     "text": [
      "140\n"
     ]
    }
   ],
   "source": [
    "print(study_hours)"
   ]
  },
  {
   "cell_type": "markdown",
   "metadata": {},
   "source": [
    "Generate all business days in 2022 that start at the first weekday of the month. Calculate how many of these days fall on the second day of the month. Assign that value to the variable *second_days*."
   ]
  },
  {
   "cell_type": "code",
   "execution_count": 331,
   "metadata": {
    "deletable": false,
    "nbgrader": {
     "cell_type": "code",
     "checksum": "ae7db5c74fde90029f625c4bb2537c4f",
     "grade": false,
     "grade_id": "second-days",
     "locked": false,
     "schema_version": 3,
     "solution": true
    }
   },
   "outputs": [],
   "source": [
    "from datetime import datetime\n",
    "\n",
    "# YOUR CODE HERE\n",
    "b_days = pd.date_range('2022-1-1', '2022-12-31', freq='BMS')\n",
    "\n",
    "second_days = len(b_days[b_days.day == 2])\n",
    "# YOUR CODE ENDS HERE"
   ]
  },
  {
   "cell_type": "code",
   "execution_count": 332,
   "metadata": {
    "deletable": false,
    "editable": false,
    "nbgrader": {
     "cell_type": "code",
     "checksum": "6c3ed869875d09e70f8edddb52ca01ca",
     "grade": true,
     "grade_id": "second-days-correct",
     "locked": true,
     "points": 1,
     "schema_version": 3,
     "solution": false
    }
   },
   "outputs": [
    {
     "name": "stdout",
     "output_type": "stream",
     "text": [
      "1\n"
     ]
    }
   ],
   "source": [
    "print(second_days)"
   ]
  },
  {
   "cell_type": "markdown",
   "metadata": {},
   "source": [
    "The first blood moon in 2022 will fall on 16 May 2022 at 05.29 am in Amsterdam. Calculate what time it will be in Sydney (Australia) at that exact moment. Assign the answer to *bloodmoon*."
   ]
  },
  {
   "cell_type": "code",
   "execution_count": 333,
   "metadata": {
    "deletable": false,
    "nbgrader": {
     "cell_type": "code",
     "checksum": "add92fab4a7cd8adf9bea590d25fb559",
     "grade": false,
     "grade_id": "bloodmoon",
     "locked": false,
     "schema_version": 3,
     "solution": true
    }
   },
   "outputs": [],
   "source": [
    "from datetime import datetime\n",
    "import pytz\n",
    "\n",
    "# YOUR CODE HERE\n",
    "bloodmoon = pd.Timestamp('2022-5-16 05:29', tz = 'Europe/Amsterdam').tz_convert('Australia/Sydney')\n",
    "\n",
    "# YOUR CODE ENDS HERE"
   ]
  },
  {
   "cell_type": "code",
   "execution_count": 334,
   "metadata": {
    "deletable": false,
    "editable": false,
    "nbgrader": {
     "cell_type": "code",
     "checksum": "c6bbb7d8603e0e953d96a3ada9e007ca",
     "grade": true,
     "grade_id": "bloodmoon-correct",
     "locked": true,
     "points": 1,
     "schema_version": 3,
     "solution": false
    }
   },
   "outputs": [
    {
     "name": "stdout",
     "output_type": "stream",
     "text": [
      "2022-05-16 13:29:00+10:00\n"
     ]
    }
   ],
   "source": [
    "print(bloodmoon)"
   ]
  },
  {
   "cell_type": "markdown",
   "metadata": {},
   "source": [
    "### Sales volumes\n",
    "\n",
    "The file *volume.csv* contains sales volumes of different companies. Read the file, and calculate the mean sales volumes of each company in the year 2010. Assign the series to the variable *volumes2010*. "
   ]
  },
  {
   "cell_type": "code",
   "execution_count": 335,
   "metadata": {
    "deletable": false,
    "nbgrader": {
     "cell_type": "code",
     "checksum": "73f294677a95ce9ed395db9bfee45b1d",
     "grade": false,
     "grade_id": "volumes2010",
     "locked": false,
     "schema_version": 3,
     "solution": true
    }
   },
   "outputs": [],
   "source": [
    "file = 'volume.csv'\n",
    "\n",
    "# YOUR CODE HERE\n",
    "sales = pd.read_csv(file, index_col=0)\n",
    "\n",
    "sales.index = pd.to_datetime(sales.index)\n",
    "\n",
    "volumes2010 = sales[sales.index.year == 2010].mean()\n",
    "\n",
    "# YOUR CODE ENDS HERE"
   ]
  },
  {
   "cell_type": "code",
   "execution_count": 336,
   "metadata": {
    "deletable": false,
    "editable": false,
    "nbgrader": {
     "cell_type": "code",
     "checksum": "5b85b2016c1457229112f0b071bf9d2b",
     "grade": true,
     "grade_id": "volumes2010-correct",
     "locked": true,
     "points": 1,
     "schema_version": 3,
     "solution": false
    }
   },
   "outputs": [
    {
     "name": "stdout",
     "output_type": "stream",
     "text": [
      "AA      3.113912e+07\n",
      "AAPL    2.140376e+07\n",
      "GE      7.223856e+07\n",
      "IBM     6.422816e+06\n",
      "JNJ     1.214678e+07\n",
      "MSFT    6.306716e+07\n",
      "PEP     6.962504e+06\n",
      "SPX     4.566245e+09\n",
      "XOM     2.643224e+07\n",
      "dtype: float64\n"
     ]
    }
   ],
   "source": [
    "print(volumes2010)"
   ]
  },
  {
   "cell_type": "markdown",
   "metadata": {},
   "source": [
    "On which day did the sales volume of Apple (*AAPL*) overtake the sales volume of Microsoft (*MSFT*) for the first time? Calculate the value and assign the timestamp to the variable *changeover*."
   ]
  },
  {
   "cell_type": "code",
   "execution_count": 337,
   "metadata": {
    "deletable": false,
    "nbgrader": {
     "cell_type": "code",
     "checksum": "51c0e9d0a7a2c7d12196eb1405144de1",
     "grade": false,
     "grade_id": "changeover",
     "locked": false,
     "schema_version": 3,
     "solution": true
    }
   },
   "outputs": [],
   "source": [
    "file = 'volume.csv'\n",
    "\n",
    "# YOUR CODE HERE\n",
    "changeover = ((sales.loc[sales['AAPL'] > sales['MSFT']]).first('1D').index).format()[0]\n",
    "# YOUR CODE ENDS HERE"
   ]
  },
  {
   "cell_type": "code",
   "execution_count": 338,
   "metadata": {
    "deletable": false,
    "editable": false,
    "nbgrader": {
     "cell_type": "code",
     "checksum": "5619ee14e4174aa35cbec2e33ca2ac66",
     "grade": true,
     "grade_id": "changeover-correct",
     "locked": true,
     "points": 1,
     "schema_version": 3,
     "solution": false
    }
   },
   "outputs": [
    {
     "name": "stdout",
     "output_type": "stream",
     "text": [
      "1992-08-06\n"
     ]
    }
   ],
   "source": [
    "print(changeover)"
   ]
  },
  {
   "cell_type": "markdown",
   "metadata": {},
   "source": [
    "Format the date that you have found in a nicer way corresponding to the style dd/mm/yy. Thus, the day (dd), month (mm), and the year (yy) are formatted in 2 digits, separated by slashes. Assign the string to the variable *nicedate*."
   ]
  },
  {
   "cell_type": "code",
   "execution_count": 339,
   "metadata": {
    "deletable": false,
    "nbgrader": {
     "cell_type": "code",
     "checksum": "db9c43b9cebdb5c4e984121eda1c577b",
     "grade": false,
     "grade_id": "nicedate",
     "locked": false,
     "schema_version": 3,
     "solution": true
    }
   },
   "outputs": [],
   "source": [
    "# YOUR CODE HERE\n",
    "\n",
    "#I assumed that's how you wanted it above, so here it is again\n",
    "nicedate = changeover\n",
    "\n",
    "# YOUR CODE ENDS HERE"
   ]
  },
  {
   "cell_type": "code",
   "execution_count": 340,
   "metadata": {
    "deletable": false,
    "editable": false,
    "nbgrader": {
     "cell_type": "code",
     "checksum": "096c0641190fc60828422b99c02ce24f",
     "grade": true,
     "grade_id": "nicedate-correct",
     "locked": true,
     "points": 1,
     "schema_version": 3,
     "solution": false
    }
   },
   "outputs": [
    {
     "name": "stdout",
     "output_type": "stream",
     "text": [
      "1992-08-06\n"
     ]
    }
   ],
   "source": [
    "print(nicedate)"
   ]
  },
  {
   "cell_type": "markdown",
   "metadata": {},
   "source": [
    "Apple has to report every end of the year (31 December) what its current sales volume is (not cumulative!). Create a time series for every year with the sales volume listed for Apple (AAPL) on 31 December. If the data does not contain a record for this date, then take the last known value that this known prior to that date. Assign the time series to the variable *apple_report*."
   ]
  },
  {
   "cell_type": "code",
   "execution_count": 345,
   "metadata": {},
   "outputs": [
    {
     "data": {
      "text/plain": [
       "Timestamp('1990-02-06 00:00:00')"
      ]
     },
     "execution_count": 345,
     "metadata": {},
     "output_type": "execute_result"
    }
   ],
   "source": [
    "sales.index[3]"
   ]
  },
  {
   "cell_type": "code",
   "execution_count": 365,
   "metadata": {
    "deletable": false,
    "nbgrader": {
     "cell_type": "code",
     "checksum": "50dc840332b40030dc78d68c44d1215c",
     "grade": false,
     "grade_id": "apple-report",
     "locked": false,
     "schema_version": 3,
     "solution": true
    }
   },
   "outputs": [],
   "source": [
    "# YOUR CODE HERE\n",
    "years_end = pd.date_range(str(min(sales.index.year)), str(max(sales.index.year)), freq='A-DEC')\n",
    "apple_report = pd.Series(sales['AAPL'], index=years_end)\n",
    "\n",
    "for i in apple_report[apple_report.isnull() == True].index:\n",
    "\taapl_last = sales['AAPL'].iloc[sales.index.get_loc(i, method='ffill')]\n",
    "\tapple_report[str(i)] = aapl_last\n",
    "\n",
    "# YOUR CODE ENDS HERE"
   ]
  },
  {
   "cell_type": "code",
   "execution_count": 366,
   "metadata": {
    "deletable": false,
    "editable": false,
    "nbgrader": {
     "cell_type": "code",
     "checksum": "361fb4b723176ee48e027cb430e49dfd",
     "grade": true,
     "grade_id": "apple-report-correct",
     "locked": true,
     "points": 1,
     "schema_version": 3,
     "solution": false
    }
   },
   "outputs": [
    {
     "name": "stdout",
     "output_type": "stream",
     "text": [
      "1990-12-31     1593200.0\n",
      "1991-12-31     4802000.0\n",
      "1992-12-31     3302000.0\n",
      "1993-12-31     5765200.0\n",
      "1994-12-31     2616400.0\n",
      "                 ...    \n",
      "2006-12-31    38443900.0\n",
      "2007-12-31    19261900.0\n",
      "2008-12-31    21697900.0\n",
      "2009-12-31    12586100.0\n",
      "2010-12-31     6911000.0\n",
      "Freq: A-DEC, Name: AAPL, Length: 21, dtype: float64\n"
     ]
    }
   ],
   "source": [
    "print(apple_report)"
   ]
  },
  {
   "cell_type": "markdown",
   "metadata": {},
   "source": [
    "The volumes of Apple are highly fluctuating over time. You can clearly see that when you make a plot. It would be better to smooth out the sales volume by taking a moving average with a period of 200 days. Calculate the moving average of the sales volume and assign the series to the variable *apple_smooth*. Create a plot with the original time series and the smooth version of the time series."
   ]
  },
  {
   "cell_type": "code",
   "execution_count": null,
   "metadata": {
    "deletable": false,
    "nbgrader": {
     "cell_type": "code",
     "checksum": "800a9b3992a6a62b3b3f3319cca9de13",
     "grade": false,
     "grade_id": "apple-smooth",
     "locked": false,
     "schema_version": 3,
     "solution": true
    }
   },
   "outputs": [],
   "source": [
    "# YOUR CODE HERE\n",
    "\n",
    "# YOUR CODE ENDS HERE"
   ]
  },
  {
   "cell_type": "code",
   "execution_count": null,
   "metadata": {
    "deletable": false,
    "editable": false,
    "nbgrader": {
     "cell_type": "code",
     "checksum": "412abdfa9f67643ad3bbb4c1b986c5a1",
     "grade": true,
     "grade_id": "apple-smooth-correct",
     "locked": true,
     "points": 1,
     "schema_version": 3,
     "solution": false
    }
   },
   "outputs": [],
   "source": [
    "print(apple_smooth)"
   ]
  }
 ],
 "metadata": {
  "kernelspec": {
   "display_name": "Python 3",
   "language": "python",
   "name": "python3"
  },
  "language_info": {
   "codemirror_mode": {
    "name": "ipython",
    "version": 3
   },
   "file_extension": ".py",
   "mimetype": "text/x-python",
   "name": "python",
   "nbconvert_exporter": "python",
   "pygments_lexer": "ipython3",
   "version": "3.9.8"
  }
 },
 "nbformat": 4,
 "nbformat_minor": 2
}
